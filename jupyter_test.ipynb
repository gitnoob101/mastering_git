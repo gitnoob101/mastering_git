{
 "cells": [
  {
   "cell_type": "code",
   "execution_count": 3,
   "id": "7753ed50",
   "metadata": {},
   "outputs": [
    {
     "name": "stdout",
     "output_type": "stream",
     "text": [
      "this is the jupyter version of vs code\n",
      "this is going to be interesting\n"
     ]
    }
   ],
   "source": [
    "print(\"this is the jupyter version of vs code\")\n",
    "print(\"this is going to be interesting\")"
   ]
  }
 ],
 "metadata": {
  "kernelspec": {
   "display_name": "Python 3",
   "language": "python",
   "name": "python3"
  },
  "language_info": {
   "codemirror_mode": {
    "name": "ipython",
    "version": 3
   },
   "file_extension": ".py",
   "mimetype": "text/x-python",
   "name": "python",
   "nbconvert_exporter": "python",
   "pygments_lexer": "ipython3",
   "version": "3.13.2"
  }
 },
 "nbformat": 4,
 "nbformat_minor": 5
}
